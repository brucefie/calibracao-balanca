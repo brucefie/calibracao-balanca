{
 "cells": [
  {
   "cell_type": "markdown",
   "id": "3f3e0d63",
   "metadata": {},
   "source": [
    "# 3.1 Erro Aleatório"
   ]
  },
  {
   "cell_type": "code",
   "execution_count": 5,
   "id": "463d2fc0",
   "metadata": {},
   "outputs": [],
   "source": [
    "### Imports ###\n",
    "import numpy as np\n",
    "import csv\n",
    "import pandas as pd\n",
    "import statistics\n",
    "import matplotlib.pyplot as plt\n",
    "import scipy.stats"
   ]
  },
  {
   "cell_type": "code",
   "execution_count": 6,
   "id": "8c3a5816",
   "metadata": {},
   "outputs": [],
   "source": [
    "df = pd.read_csv(\"01.csv\")"
   ]
  },
  {
   "cell_type": "code",
   "execution_count": 7,
   "id": "03c81351",
   "metadata": {},
   "outputs": [
    {
     "data": {
      "text/html": [
       "<div>\n",
       "<style scoped>\n",
       "    .dataframe tbody tr th:only-of-type {\n",
       "        vertical-align: middle;\n",
       "    }\n",
       "\n",
       "    .dataframe tbody tr th {\n",
       "        vertical-align: top;\n",
       "    }\n",
       "\n",
       "    .dataframe thead th {\n",
       "        text-align: right;\n",
       "    }\n",
       "</style>\n",
       "<table border=\"1\" class=\"dataframe\">\n",
       "  <thead>\n",
       "    <tr style=\"text-align: right;\">\n",
       "      <th></th>\n",
       "      <th>medidas de massa</th>\n",
       "    </tr>\n",
       "  </thead>\n",
       "  <tbody>\n",
       "    <tr>\n",
       "      <th>count</th>\n",
       "      <td>110.000000</td>\n",
       "    </tr>\n",
       "    <tr>\n",
       "      <th>mean</th>\n",
       "      <td>999.563636</td>\n",
       "    </tr>\n",
       "    <tr>\n",
       "      <th>std</th>\n",
       "      <td>1.274501</td>\n",
       "    </tr>\n",
       "    <tr>\n",
       "      <th>min</th>\n",
       "      <td>997.000000</td>\n",
       "    </tr>\n",
       "    <tr>\n",
       "      <th>25%</th>\n",
       "      <td>999.000000</td>\n",
       "    </tr>\n",
       "    <tr>\n",
       "      <th>50%</th>\n",
       "      <td>999.000000</td>\n",
       "    </tr>\n",
       "    <tr>\n",
       "      <th>75%</th>\n",
       "      <td>1000.000000</td>\n",
       "    </tr>\n",
       "    <tr>\n",
       "      <th>max</th>\n",
       "      <td>1003.000000</td>\n",
       "    </tr>\n",
       "  </tbody>\n",
       "</table>\n",
       "</div>"
      ],
      "text/plain": [
       "       medidas de massa\n",
       "count        110.000000\n",
       "mean         999.563636\n",
       "std            1.274501\n",
       "min          997.000000\n",
       "25%          999.000000\n",
       "50%          999.000000\n",
       "75%         1000.000000\n",
       "max         1003.000000"
      ]
     },
     "execution_count": 7,
     "metadata": {},
     "output_type": "execute_result"
    }
   ],
   "source": [
    "df.describe() #descrição da tabela de dados"
   ]
  },
  {
   "cell_type": "markdown",
   "id": "26f46730",
   "metadata": {},
   "source": [
    "#### O valor da média é de 999.563636 g conforme acima.\n",
    "#### O valor do desvio padrão é 1.274501 g conforme acima."
   ]
  },
  {
   "cell_type": "code",
   "execution_count": 8,
   "id": "65fc4593",
   "metadata": {},
   "outputs": [
    {
     "data": {
      "image/png": "[encoded data removed]",
      "text/plain": [
       "<Figure size 640x480 with 1 Axes>"
      ]
     },
     "metadata": {},
     "output_type": "display_data"
    }
   ],
   "source": [
    "### Gráfico com frequência de massas\n",
    "values, bins, bars = plt.hist(df,bins=12,color='aquamarine',alpha=0.6)\n",
    "plt.bar_label(bars,color='black', font='serif')\n",
    "plt.xlabel(\"Massa [g]\", font='serif')\n",
    "plt.ylabel(\"Frequência\", font='serif')\n",
    "plt.title(\"Frequência de massa em 110 medições\",font='serif',fontsize=20)\n",
    "plt.show()"
   ]
  },
  {
   "cell_type": "markdown",
   "id": "a6f9d285",
   "metadata": {},
   "source": [
    "### 3.1 (a)\n",
    "#### De acordo com o gráfico acima, a distribuição dos dados tem o mesmo formato de uma distribuição normal, por isso utilizaremos as ferramentas estatísticas baseadas na distribuição normal."
   ]
  },
  {
   "cell_type": "code",
   "execution_count": 9,
   "id": "45e69442",
   "metadata": {},
   "outputs": [
    {
     "name": "stdout",
     "output_type": "stream",
     "text": [
      "2.1047058097711053\n"
     ]
    }
   ],
   "source": [
    "### Cálculo Re\n",
    "t = scipy.stats.t.ppf(q=0.95,df=109) #t de Student\n",
    "u= df.values.std() #Desvio Padrão\n",
    "re = u*t\n",
    "print (re)"
   ]
  },
  {
   "cell_type": "markdown",
   "id": "89ca582a",
   "metadata": {},
   "source": [
    "### 3.1 (b)\n",
    "#### O coeficiente t de Student para 95% do nível de confiança e n= 110-1, encontramos t = 1.6589534581903567.\n",
    "#### Calculando a repetitividade = t * u encontramos Re = 2.1047058097711053"
   ]
  },
  {
   "cell_type": "code",
   "execution_count": 10,
   "id": "07b4d86a",
   "metadata": {},
   "outputs": [
    {
     "name": "stdout",
     "output_type": "stream",
     "text": [
      "11 0.1\n"
     ]
    }
   ],
   "source": [
    "## Cálculo do erro aleatório e porcentagem de valores maiores que Re\n",
    "ea = df.values.mean() - df.values\n",
    "i=0\n",
    "for  item in ea:\n",
    "    if  abs(item) >re:\n",
    "        i+=1\n",
    "print(i,i/110)"
   ]
  },
  {
   "cell_type": "markdown",
   "id": "7fbfbf91",
   "metadata": {},
   "source": [
    "### 3.1 (c)\n",
    "#### Conforme cálculos acima, dos 110 valores medidos 11 foram superiores ao valor de Re, o que corresponde a 10%."
   ]
  },
  {
   "cell_type": "markdown",
   "id": "ab58aa0b",
   "metadata": {},
   "source": [
    "# 3.2 Tendência e correção"
   ]
  },
  {
   "cell_type": "code",
   "execution_count": 11,
   "id": "921e74d7",
   "metadata": {},
   "outputs": [
    {
     "name": "stdout",
     "output_type": "stream",
     "text": [
      "0.43636363636358055\n"
     ]
    }
   ],
   "source": [
    "## Cálculo da Tendência e correção\n",
    "td = 1000 - df.values.mean()\n",
    "print(td)\n",
    "c = -td"
   ]
  },
  {
   "cell_type": "markdown",
   "id": "67714942",
   "metadata": {},
   "source": [
    "### 3.2 (a)\n",
    "#### O valor da tendência foi de 0.43636363636358055.\n",
    "#### A correção corresponde a -td, portanto equivale a -0.43636363636358055."
   ]
  },
  {
   "cell_type": "code",
   "execution_count": 12,
   "id": "963d1293",
   "metadata": {},
   "outputs": [
    {
     "name": "stdout",
     "output_type": "stream",
     "text": [
      "-3.0090909090913556\n"
     ]
    }
   ],
   "source": [
    "## Cálculo da Tendência e correção para novos dados\n",
    "df2 = pd.read_csv(\"02.csv\", delimiter=',')\n",
    "td2 = 5000 - df2.values.mean()\n",
    "print(td2)\n",
    "c = -td2"
   ]
  },
  {
   "cell_type": "markdown",
   "id": "3a137acd",
   "metadata": {},
   "source": [
    "### 3.2 (b)\n",
    "#### O valor da tendência foi de -3.0090909090913556. A correção corresponde a -td, portanto equivale 3.0090909090913556. Para cada massa o valor do erro aleatório é distinto, por isso os valores de tendência para massa de 1000g e para massa de 5000g não coincidem."
   ]
  },
  {
   "cell_type": "code",
   "execution_count": 13,
   "id": "b4b66f26",
   "metadata": {},
   "outputs": [
    {
     "name": "stdout",
     "output_type": "stream",
     "text": [
      "td3, i3: -2.979797979797695 0.1595320163426233\n",
      "td4, i4: -3.0 0.5\n",
      "td5, i5: -2.75 0.7976600817131164\n"
     ]
    }
   ],
   "source": [
    "## Cálculo da Tendência para novos conjuntos de dados e incerteza de repetitivdade\n",
    "df3 = pd.read_csv(\"03.csv\", delimiter = ',')\n",
    "td3 = 5000 - df3.values.mean()\n",
    "i3 = df3.values.std()/np.sqrt(100) \n",
    "print(\"td3, i3: {} {}\".format(td3,i3))\n",
    "\n",
    "df4 = pd.read_csv(\"04.csv\", delimiter = ',')\n",
    "td4 = 5000 - df4.values.mean()\n",
    "i4 = df4.values.std()/np.sqrt(16)\n",
    "print(\"td4, i4: {} {}\".format(td4,i4))\n",
    "\n",
    "df5 = pd.read_csv(\"05.csv\", delimiter = ',')\n",
    "td5 = 5000 - df5.values.mean()\n",
    "i5 = df3.values.std()/np.sqrt(4)\n",
    "print(\"td5, i5: {} {}\".format(td5,i5))"
   ]
  },
  {
   "cell_type": "markdown",
   "id": "e29312ea",
   "metadata": {},
   "source": [
    "### 3.2 (c)\n",
    "#### Para n = 100, o valor da tendência foi de -2.979797979797695, com incerteza de 0.1595320163426233;\n",
    "#### Para n = 16, o valor da tendência foi de -3.0, com incerteza de 0.5;\n",
    "\n",
    "#### Para n = 4, o valor da tendência foi de -2,75, com incerteza de 0.7976600817131164;"
   ]
  },
  {
   "cell_type": "code",
   "execution_count": 14,
   "id": "796272a0",
   "metadata": {},
   "outputs": [
    {
     "data": {
      "image/png": "[encoded data removed]",
      "text/plain": [
       "<Figure size 640x480 with 1 Axes>"
      ]
     },
     "metadata": {},
     "output_type": "display_data"
    }
   ],
   "source": [
    "## Gráfico com os valores medidos\n",
    "y3 = df3.values\n",
    "y4 = df4.values\n",
    "y5 = df5.values\n",
    "\n",
    "plt.scatter(np.arange(len(y3)), y3, c=\"darkviolet\", alpha=0.5, s=50)\n",
    "plt.scatter(np.arange(len(y4)), y4, c=\"springgreen\", alpha=0.5, s=40)\n",
    "plt.scatter(np.arange(len(y5)), y5, c=\"gold\", alpha=0.5, s=100)\n",
    "plt.xlabel(\"Medição\", font='serif')\n",
    "plt.ylabel(\"Massa [g]\", font='serif')\n",
    "plt.title(\"Massa em 100, 16 e 4 medições \",font='serif',fontsize=20)\n",
    "plt.show()"
   ]
  },
  {
   "cell_type": "markdown",
   "id": "e68a3ebe",
   "metadata": {},
   "source": [
    "#### As 100 medições estão representadas pela cor roxa;\n",
    "#### 16 medições estão representadas pela cor verde;\n",
    "#### 4 medições estão representadas pela cor laranja;\n",
    "\n",
    "#### Todas as medidas realizadas (em 4, 16 e 100 medições) estão na mesma faixa, sendo que suas regiões se interceptam, conforme gráfico acima."
   ]
  },
  {
   "cell_type": "markdown",
   "id": "b666393f",
   "metadata": {},
   "source": [
    "# 3.3 Calibração da balança"
   ]
  },
  {
   "cell_type": "code",
   "execution_count": 17,
   "id": "df90938a",
   "metadata": {},
   "outputs": [
    {
     "name": "stdout",
     "output_type": "stream",
     "text": [
      "4000g, td: -2.449999999999818, Emax: 0.24142184971432945, Emin: -5.141421849713966\n",
      "4100g, td: -2.869999999999891, Emax: -0.4563714380471433, Emin: -5.283628561952638\n",
      "4200g, td: -2.699999999999818, Emax: 0.06344163152119897, Emin: -5.463441631520835\n",
      "4300g, td: -2.8900000000003274, Emax: -0.20349942402310006, Emin: -5.576500575977555\n",
      "4400g, td: -2.7100000000000364, Emax: 0.0010176109146740053, Emin: -5.421017610914747\n",
      "4500g, td: -2.7100000000000364, Emax: -0.019397737484585065, Emin: -5.400602262515488\n",
      "4600g, td: -3.1599999999998545, Emax: -0.3744989755627799, Emin: -5.945501024436929\n",
      "4700g, td: -2.7200000000002547, Emax: 0.5428270519566865, Emin: -5.982827051957196\n",
      "4800g, td: -2.9899999999997817, Emax: -0.033804222093848146, Emin: -5.946195777905715\n",
      "4900g, td: -2.9899999999997817, Emax: -0.17716800358841445, Emin: -5.8028319964111486\n"
     ]
    }
   ],
   "source": [
    "## Cálculo de Tendência, incerteza de repetitividade e erros somando ou subtraindo incerteza\n",
    "t1 = scipy.stats.t.ppf(q=0.95,df=99) #t para 100 medições e 95% nível de confiança\n",
    "\n",
    "#4000g\n",
    "d40 = pd.read_csv(\"4000.csv\", delimiter = ',')\n",
    "t40 = 4000 - d40.values.mean()\n",
    "u= d40.values.std()\n",
    "re40 = u*t1\n",
    "rep = re40/np.sqrt(100)\n",
    "tmax = t40 + re40\n",
    "tmin = t40 - re40\n",
    "print(\"4000g, td: {}, Emax: {}, Emin: {}\".format(t40,tmax, tmin))\n",
    "\n",
    "#4100g\n",
    "d41 = pd.read_csv(\"4100.csv\", delimiter = ',')\n",
    "t41 = 4100 - d41.values.mean()\n",
    "u1= d41.values.std()\n",
    "re41 = u1*t1\n",
    "rep1 = re41/np.sqrt(100)\n",
    "tmax1 = t41 + re41\n",
    "tmin1 = t41 - re41\n",
    "print(\"4100g, td: {}, Emax: {}, Emin: {}\".format(t41,tmax1, tmin1))\n",
    "\n",
    "#4200g\n",
    "d42 = pd.read_csv(\"4200.csv\", delimiter = ',')\n",
    "t42 = 4200 - d42.values.mean()\n",
    "u2= d42.values.std()\n",
    "re42 = u2*t1\n",
    "rep2 = re42/np.sqrt(100)\n",
    "tmax2 = t42 + re42\n",
    "tmin2 = t42 - re42\n",
    "print(\"4200g, td: {}, Emax: {}, Emin: {}\".format(t42,tmax2, tmin2))\n",
    "\n",
    "#4300g\n",
    "d43 = pd.read_csv(\"4300.csv\", delimiter = ',')\n",
    "t43 = 4300 - d43.values.mean()\n",
    "u3= d43.values.std()\n",
    "re43 = u3*t1\n",
    "rep3 = re43/np.sqrt(100)\n",
    "tmax3 = t43 + re43\n",
    "tmin3 = t43 - re43\n",
    "print(\"4300g, td: {}, Emax: {}, Emin: {}\".format(t43,tmax3, tmin3))\n",
    "\n",
    "#4400g\n",
    "d44 = pd.read_csv(\"4400.csv\", delimiter = ',')\n",
    "t44 = 4400 - d44.values.mean()\n",
    "u4= d44.values.std()\n",
    "re44 = u4*t1\n",
    "rep4 = re44/np.sqrt(100)\n",
    "tmax4 = t44 + re44\n",
    "tmin4 = t44 - re44\n",
    "print(\"4400g, td: {}, Emax: {}, Emin: {}\".format(t44,tmax4, tmin4))\n",
    "\n",
    "#4500g\n",
    "d45 = pd.read_csv(\"4500.csv\", delimiter = ',')\n",
    "t45 = 4500 - d45.values.mean()\n",
    "u5= d45.values.std()\n",
    "re45 = u5*t1\n",
    "rep5 = re45/np.sqrt(100)\n",
    "tmax5 = t45 + re45\n",
    "tmin5 = t45 - re45\n",
    "print(\"4500g, td: {}, Emax: {}, Emin: {}\".format(t45,tmax5, tmin5))\n",
    "\n",
    "#4600g\n",
    "d46 = pd.read_csv(\"4600.csv\", delimiter = ',')\n",
    "t46 = 4600 - d46.values.mean()\n",
    "u6= d46.values.std()\n",
    "re46 = u6*t1\n",
    "rep6 = re46/np.sqrt(100)\n",
    "tmax6 = t46 + re46\n",
    "tmin6 = t46 - re46\n",
    "print(\"4600g, td: {}, Emax: {}, Emin: {}\".format(t46,tmax6, tmin6))\n",
    "\n",
    "#4700g\n",
    "d47 = pd.read_csv(\"4700.csv\", delimiter = ',')\n",
    "t47 = 4700 - d47.values.mean()\n",
    "u7= d47.values.std()\n",
    "re47 = u7*t1\n",
    "rep7 = re47/np.sqrt(100)\n",
    "tmax7 = t47 + re47\n",
    "tmin7 = t47 - re47\n",
    "print(\"4700g, td: {}, Emax: {}, Emin: {}\".format(t47,tmax7, tmin7))\n",
    "\n",
    "#4800g\n",
    "d48 = pd.read_csv(\"4800.csv\", delimiter = ',')\n",
    "t48 = 4800 - d48.values.mean()\n",
    "u8= d48.values.std()\n",
    "re48 = u8*t1\n",
    "rep8 = re48/np.sqrt(100)\n",
    "tmax8 = t48 + re48\n",
    "tmin8 = t48 - re48\n",
    "print(\"4800g, td: {}, Emax: {}, Emin: {}\".format(t48,tmax8, tmin8))\n",
    "\n",
    "#4900g\n",
    "d49 = pd.read_csv(\"4900.csv\", delimiter = ',')\n",
    "t49 = 4900 - d49.values.mean()\n",
    "u9= d49.values.std()\n",
    "re9 = u9*t1\n",
    "rep9 = re9/np.sqrt(100)\n",
    "tmax9 = t49 + re9\n",
    "tmin9 = t49 - re9\n",
    "print(\"4900g, td: {}, Emax: {}, Emin: {}\".format(t49,tmax9, tmin9))\n",
    "\n",
    "\n",
    "x1=[4000,4100,4200,4300,4400,4500,4600,4700,4800,4900]\n",
    "tnd=[t40,t41,t42,t43,t44,t45,t46,t47,t48,t49]\n",
    "tndmax=[tmax, tmax1, tmax2, tmax3,tmax4,tmax5,tmax6,tmax7,tmax8,tmax9]\n",
    "tndmin=[tmin, tmin1, tmin2, tmin3,tmin4,tmin5,tmin6,tmin7,tmin8,tmin9]\n"
   ]
  },
  {
   "cell_type": "code",
   "execution_count": 18,
   "id": "855e2a45",
   "metadata": {},
   "outputs": [
    {
     "data": {
      "image/png": "[encoded data removed]",
      "text/plain": [
       "<Figure size 640x480 with 1 Axes>"
      ]
     },
     "metadata": {},
     "output_type": "display_data"
    }
   ],
   "source": [
    "## Curva de erros\n",
    "plt.scatter(x1, tnd, c=\"darkviolet\", alpha=0.5)\n",
    "plt.scatter(x1, tndmax, c=\"springgreen\", alpha=0.5)\n",
    "plt.scatter(x1, tndmin, c=\"gold\", alpha=0.5)\n",
    "plt.plot(x1, tnd, c=\"darkviolet\", alpha=0.5)\n",
    "plt.plot(x1, tndmax, c=\"springgreen\", alpha=0.5)\n",
    "plt.plot(x1, tndmin, c=\"gold\", alpha=0.5)\n",
    "\n",
    "\n",
    "plt.xlabel(\"Massa [g]\", font='serif')\n",
    "plt.ylabel(\"Erro\", font='serif')\n",
    "plt.title(\"Curva de erro\",font='serif',fontsize=20)\n",
    "plt.show()"
   ]
  },
  {
   "cell_type": "markdown",
   "id": "ba576446",
   "metadata": {},
   "source": [
    "#### O erro máximo encontrado foi de 0.5428270519566865, no ponto de medição 4700g"
   ]
  },
  {
   "cell_type": "code",
   "execution_count": 25,
   "id": "454052f2",
   "metadata": {},
   "outputs": [
    {
     "name": "stdout",
     "output_type": "stream",
     "text": [
      "MASSAS: [4000, 4100, 4200, 4300, 4400, 4500, 4600, 4700, 4800, 4900, 2.449999999999818, 2.869999999999891, 2.699999999999818, 2.8900000000003274, 2.7100000000000364, 2.7100000000000364, 3.1599999999998545, 2.7200000000002547, 2.9899999999997817, 2.9899999999997817]g\n",
      "\n",
      "CORREÇÕES: [2.449999999999818, 2.869999999999891, 2.699999999999818, 2.8900000000003274, 2.7100000000000364, 2.7100000000000364, 3.1599999999998545, 2.7200000000002547, 2.9899999999997817, 2.9899999999997817]g\n",
      "\n",
      "INCERTEZAS: [0.26915766581043266, 0.24138011865949982, 0.27635924055759153, 0.2686655667937242, 0.27111713003834775, 0.26907571180592643, 0.2785650604521918, 0.32629547505773593, 0.2956336721458197, 0.2812980123173445]g\n"
     ]
    }
   ],
   "source": [
    "## Cálculo de correção e incerteza da repetitivdade\n",
    "c = [item*-1 for item in tnd] #Correção\n",
    "repa = [rep,rep1,rep2,rep3,rep4,rep5,rep6,rep7,rep8,rep9] #Incerteza da repetitividade\n",
    "res = (0.01/2)/np.sqrt(3) #Incerteza da resolução\n",
    "resc = [np.sqrt(c*c + res*res) for c in repa]\n",
    "\n",
    "print(\"MASSAS: {}g\".format(x2))\n",
    "print(\"\")\n",
    "print(\"CORREÇÕES: {}g\".format(c))\n",
    "print(\"\")\n",
    "print(\"INCERTEZAS: {}g\".format(resc))"
   ]
  },
  {
   "cell_type": "markdown",
   "id": "787d522e",
   "metadata": {},
   "source": [
    "#### Para todos os valores de correção e para todos valores de incertezas combinadas, encontramos os valores acima de correções e incertezas. Para utilizar as medições da balança devemos somar ambos valores em cada medição para determinada massa de acordo com o gráfico."
   ]
  },
  {
   "cell_type": "markdown",
   "id": "7594a00f",
   "metadata": {},
   "source": [
    "# 3.4 Medição de uma massa conhecida\n",
    "\n",
    "#### Valor da massa escolhida: 4550g\n",
    "#### Valor medido: 4552g"
   ]
  },
  {
   "cell_type": "code",
   "execution_count": 271,
   "id": "8ce1c5ec",
   "metadata": {},
   "outputs": [
    {
     "name": "stdout",
     "output_type": "stream",
     "text": [
      "4552.9349999999995\n",
      "4555.673051643476\n",
      "4550.1969483565235\n"
     ]
    }
   ],
   "source": [
    "## Encontrando valores dos erros\n",
    "v1 = np.interp(4550,x1,tnd) #interpolando da curva\n",
    "v2 = np.interp(4550,x1,tndmin)\n",
    "v3 = np.interp(4550,x1,tndmax)\n",
    "\n",
    "vv = 4550 - v1 \n",
    "vv2 = 4550 - v2 \n",
    "vv3 = 4550 - v3 \n",
    "print(vv)\n",
    "print(vv2)\n",
    "print(vv3)"
   ]
  },
  {
   "cell_type": "markdown",
   "id": "ad77f32a",
   "metadata": {},
   "source": [
    "### 3.4 (a)\n",
    "#### O valor medido se encontra dentro da faixa de valores considerando o erro, sendo 4552.9349999999995g, 4555.673051643476g e 4550.1969483565235g"
   ]
  },
  {
   "cell_type": "code",
   "execution_count": 275,
   "id": "f113471d",
   "metadata": {},
   "outputs": [
    {
     "name": "stdout",
     "output_type": "stream",
     "text": [
      "4552.9492199999995\n",
      "4555.690270444353\n",
      "4550.208169555647\n"
     ]
    }
   ],
   "source": [
    "## Encontrando valores dos erros para novo conjunto de dados\n",
    "a = pd.read_csv(\"4500-20.csv\")\n",
    "v1 = np.interp(a.values.mean(),x1,tnd)\n",
    "v2 = np.interp(a.values.mean(),x1,tndmin)\n",
    "v3 = np.interp(a.values.mean(),x1,tndmax)\n",
    "\n",
    "vv = 4550 - v1 \n",
    "vv2 = 4550 - v2 \n",
    "vv3 = 4550 - v3 \n",
    "print(vv)\n",
    "print(vv2)\n",
    "print(vv3)"
   ]
  },
  {
   "cell_type": "markdown",
   "id": "2b778d8f",
   "metadata": {},
   "source": [
    "### 3.4 (b)\n",
    "#### O valor medido se encontra dentro da faixa de valores considerando o erro, sendo 4552.9492199999995g, 4555.690270444353g e 4550.208169555647g"
   ]
  },
  {
   "cell_type": "code",
   "execution_count": 277,
   "id": "431a1d64",
   "metadata": {},
   "outputs": [
    {
     "name": "stdout",
     "output_type": "stream",
     "text": [
      "4552.9465199999995\n",
      "4555.687001051781\n",
      "4550.2060389482185\n"
     ]
    }
   ],
   "source": [
    "a = pd.read_csv(\"4500-50.csv\")\n",
    "v1 = np.interp(a.values.mean(),x1,tnd)\n",
    "v2 = np.interp(a.values.mean(),x1,tndmin)\n",
    "v3 = np.interp(a.values.mean(),x1,tndmax)\n",
    "\n",
    "vv = 4550 - v1 \n",
    "vv2 = 4550 - v2 \n",
    "vv3 = 4550 - v3 \n",
    "print(vv)\n",
    "print(vv2)\n",
    "print(vv3)"
   ]
  },
  {
   "cell_type": "markdown",
   "id": "ae54b685",
   "metadata": {},
   "source": [
    "### 3.4 (c)\n",
    "#### O valor medido se encontra dentro da faixa de valores considerando o erro, sendo 4552.9465199999995g, 4555.687001051781g, 4550.2060389482185g."
   ]
  },
  {
   "cell_type": "code",
   "execution_count": 26,
   "id": "0faf7cf6",
   "metadata": {},
   "outputs": [
    {
     "data": {
      "image/png": "[encoded data removed]",
      "text/plain": [
       "<Figure size 640x480 with 1 Axes>"
      ]
     },
     "metadata": {},
     "output_type": "display_data"
    }
   ],
   "source": [
    "## Gráfico para valores de massa para distintas quantidades de medições\n",
    "med = [1,20,50]\n",
    "tnd2 = [4552.9349999999995,4552.9492199999995, 4552.9465199999995]\n",
    "tndmax2 = [4555.673051643476, 4555.690270444353, 4555.687001051781]\n",
    "tndmin2 = [4550.1969483565235, 4550.208169555647, 4550.2060389482185]\n",
    "plt.scatter(med, tnd2, c=\"darkviolet\", alpha=0.5)\n",
    "plt.scatter(med, tndmax2, c=\"springgreen\", alpha=0.5)\n",
    "plt.scatter(med, tndmin2, c=\"gold\", alpha=0.5)\n",
    "plt.plot(med, tnd2, c=\"darkviolet\", alpha=0.5)\n",
    "plt.plot(med, tndmax2, c=\"springgreen\", alpha=0.5)\n",
    "plt.plot(med, tndmin2, c=\"gold\", alpha=0.5)\n",
    "plt.xlabel(\"Quantidade de medições\", font='serif')\n",
    "plt.ylabel(\"Massa [g]\", font='serif')\n",
    "plt.title(\"Valores de massa para distintas quantidades de medições\",font='serif',fontsize=20)\n",
    "\n",
    "plt.show()"
   ]
  },
  {
   "cell_type": "markdown",
   "id": "fee3db57",
   "metadata": {},
   "source": [
    "### 3.4 (d)\n",
    "#### Conforme o gráfico acima, os valores foram consistentes, com pouca variação."
   ]
  },
  {
   "cell_type": "markdown",
   "id": "26686dd9",
   "metadata": {},
   "source": [
    "# 3.5 Determinação de massa desconhecida"
   ]
  },
  {
   "cell_type": "code",
   "execution_count": 290,
   "id": "7b686cb9",
   "metadata": {},
   "outputs": [
    {
     "name": "stdout",
     "output_type": "stream",
     "text": [
      ":2335.53114\n",
      "min: 2338.2256576464015\n",
      "max: 2332.8366223535986\n"
     ]
    }
   ],
   "source": [
    "## Calculando erros e subtraindo 2000g\n",
    "desc = pd.read_csv(\"desc.csv\")\n",
    "v1 = np.interp(desc.values.mean(),x1,tnd)\n",
    "v2 = np.interp(desc.values.mean(),x1,tndmin)\n",
    "v3 = np.interp(desc.values.mean(),x1,tndmax)\n",
    "\n",
    "vv = desc.values.mean() - v1 - 2000\n",
    "vv1 = desc.values.mean() - v2 - 2000\n",
    "vv2 = desc.values.mean() - v3 - 2000\n",
    "print(\":{}\".format(vv))\n",
    "print(\"min: {}\".format(vv1))\n",
    "print(\"max: {}\".format(vv2))"
   ]
  },
  {
   "cell_type": "markdown",
   "id": "435a4720",
   "metadata": {},
   "source": [
    "### 3.5\n",
    "#### Os valores colocados na balança foram a massa desconhecida e a massa de 2000g, calculando os valores de erro para as 100 medições utilizando a curva de erros e descontando as 2000g, encontrou-se os valores de 2335.53114g, 2338.2256576464015g e 2332.8366223535986g."
   ]
  },
  {
   "cell_type": "markdown",
   "id": "d375e041",
   "metadata": {},
   "source": [
    "# 3.6 Determinação de soma de massas"
   ]
  },
  {
   "cell_type": "code",
   "execution_count": 302,
   "id": "bacfa103",
   "metadata": {},
   "outputs": [
    {
     "name": "stdout",
     "output_type": "stream",
     "text": [
      "3154.7\n"
     ]
    }
   ],
   "source": [
    "### Interpolando erro de acordo com a curva\n",
    "c1 = pd.read_csv(\"c1.csv\")\n",
    "v1 = np.interp(3150,x1,tnd)\n",
    "vv = c1.values.mean() - v1 #considerando erro\n",
    " \n",
    "print(vv)"
   ]
  },
  {
   "cell_type": "markdown",
   "id": "362aa13e",
   "metadata": {},
   "source": [
    "### 3.6(a)\n",
    "#### O valor da medição considerando a curva foi de 3154.7g"
   ]
  },
  {
   "cell_type": "code",
   "execution_count": 27,
   "id": "d423ecad",
   "metadata": {},
   "outputs": [
    {
     "name": "stdout",
     "output_type": "stream",
     "text": [
      "2904.2\n"
     ]
    }
   ],
   "source": [
    "## Calculando erro\n",
    "c1 = pd.read_csv(\"c2.csv\")\n",
    "v1 = np.interp(2900,x1,tnd)\n",
    "vv = c1.values.mean() - v1 #considerando erro\n",
    "\n",
    "print(vv)"
   ]
  },
  {
   "cell_type": "markdown",
   "id": "f46e1ea4",
   "metadata": {},
   "source": [
    "### 3.6 (b)\n",
    "#### O valor da medição considerando a curva foi de 2904.2g conforme acima"
   ]
  },
  {
   "cell_type": "code",
   "execution_count": 28,
   "id": "16a62858",
   "metadata": {},
   "outputs": [
    {
     "name": "stdout",
     "output_type": "stream",
     "text": [
      "6056.34\n"
     ]
    }
   ],
   "source": [
    "## Calculando erro\n",
    "c1 = pd.read_csv(\"c3.csv\")\n",
    "v1 = np.interp(6050,x1,tnd)\n",
    "vv = c1.values.mean() - v1 #considerando erro\n",
    "\n",
    "print(vv)"
   ]
  },
  {
   "cell_type": "markdown",
   "id": "51eb0927",
   "metadata": {},
   "source": [
    "### 3.6 (d)\n",
    "#### O valor da medição considerando a curva foi de 6056.34g"
   ]
  }
 ],
 "metadata": {
  "kernelspec": {
   "display_name": "Python 3 (ipykernel)",
   "language": "python",
   "name": "python3"
  },
  "language_info": {
   "codemirror_mode": {
    "name": "ipython",
    "version": 3
   },
   "file_extension": ".py",
   "mimetype": "text/x-python",
   "name": "python",
   "nbconvert_exporter": "python",
   "pygments_lexer": "ipython3",
   "version": "3.9.13"
  }
 },
 "nbformat": 4,
 "nbformat_minor": 5
}
